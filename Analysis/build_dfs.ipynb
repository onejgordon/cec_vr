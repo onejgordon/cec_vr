{
 "cells": [
  {
   "cell_type": "code",
   "execution_count": 2,
   "metadata": {},
   "outputs": [],
   "source": [
    "import numpy as np\n",
    "import matplotlib.pyplot as plt\n",
    "import matplotlib.cm as cm\n",
    "import matplotlib.patches as patches\n",
    "import pandas as pd\n",
    "import pprint\n",
    "from mpl_toolkits.mplot3d import Axes3D\n",
    "import matplotlib as mpl\n",
    "import csv\n",
    "import json\n",
    "import seaborn as sns\n",
    "from scipy.ndimage.filters import gaussian_filter\n",
    "from scipy.stats import entropy\n",
    "from os import listdir\n",
    "from os.path import isfile, join\n",
    "\n",
    "mpl.rcParams['figure.dpi'] = 144\n",
    "mpl.rcParams['figure.figsize'] = (8, 5)\n",
    "\n",
    "pp = pprint.PrettyPrinter(indent=4)"
   ]
  },
  {
   "cell_type": "code",
   "execution_count": 3,
   "metadata": {},
   "outputs": [],
   "source": [
    "DATA_DIR = \"/Users/jeremygordon/Google Drive/Academic/# UC Berkeley ISchool PhD/Research/# Current/Covert Embodied Choice/Data\""
   ]
  },
  {
   "cell_type": "code",
   "execution_count": 8,
   "metadata": {
    "code_folding": [
     20,
     35
    ]
   },
   "outputs": [],
   "source": [
    "def load_json(file):\n",
    "    data = None\n",
    "    try:\n",
    "        with open(file) as f:\n",
    "            data = json.load(f)\n",
    "    except:\n",
    "        pass\n",
    "        # print(\"Can't find %s\" % file)\n",
    "    return data\n",
    "\n",
    "def get_session_info(ppid):\n",
    "    systime, synctime = None, None\n",
    "    with open('../TrialData/PupilRecordings/%s/info.csv' % ppid, 'r') as csvfile:\n",
    "        reader = csv.reader(csvfile)\n",
    "        for row in reader:\n",
    "            if row[0] == \"Start Time (System)\":\n",
    "                systime = float(row[1])\n",
    "            elif row[0] == \"Start Time (Synced)\":\n",
    "                synctime = float(row[1])\n",
    "    return (systime, synctime)\n",
    "\n",
    "def df_to_tuples(df):\n",
    "    return [tuple(x) for x in df.values]    \n",
    "\n",
    "def roll_median(session, plot=False):\n",
    "    trials = session.get(\"trials\", [])\n",
    "    all_rolls = []\n",
    "    for trial in trials:\n",
    "        hits = trial.get('hits', [])\n",
    "        rolls = [h['roll'] for h in hits if not h.get('post_response')]\n",
    "        all_rolls.extend(rolls)\n",
    "    med = np.median(all_rolls)\n",
    "    if plot:\n",
    "        n_rolls = len(all_rolls)\n",
    "        plt.plot(range(n_rolls), all_rolls)\n",
    "        plt.plot([0, n_rolls], [med, med], color='red')\n",
    "    return med\n",
    "\n",
    "def generate_subject_df():\n",
    "    \"\"\"\n",
    "    Load all meta data files and create subject_df\n",
    "    \"\"\"\n",
    "    onlyfiles = [f for f in listdir(DATA_DIR) if isfile(join(DATA_DIR, f))]\n",
    "\n",
    "    subject_df = pd.DataFrame(columns=[\n",
    "        'hand_order', 'condition', 'left_handed', \n",
    "        'total_points', 'total_points_possible', 'total_matches',\n",
    "        'ts_session_start', 'ts_adversary', 'ts_session_end', 'session_duration'])\n",
    "    \n",
    "    # Loop through all meta data files\n",
    "    for file in onlyfiles:\n",
    "        if '_meta' in file:\n",
    "            data = load_json(DATA_DIR + '/' + file)\n",
    "            key = data['session_id']\n",
    "            del data['hand_specs']\n",
    "            del data['session_id']\n",
    "            data['session_duration'] = int(data['ts_session_end'] - data['ts_session_start'])\n",
    "            subject_df = subject_df.append(pd.Series(data, name=key))\n",
    "    \n",
    "    print(\"Generated subject dataframe with %d subjects\" % len(subject_df))\n",
    "    return subject_df\n",
    "        \n",
    "def generate_trial_and_tracking_dfs(subject_df):\n",
    "    \"\"\"\n",
    "    For each subject in passed df, load all subject's trial data and generate trial_df\n",
    "    \"\"\"\n",
    "    trial_df = pd.DataFrame(columns=['subject_choice', 'trial_id', 'points', 'correct', \n",
    "                                     'avoided_prediction', 'ts_start', 'ts_selection', \n",
    "                                     'ts_end', 'hand', 'practice',\n",
    "                                     'with_adversary', 'duration'])\n",
    "    tracking_df = pd.DataFrame(columns=[\n",
    "        'hmd_yaw', 'hmd_roll', 'hmd_pitch', 'hmd_x', 'hmd_y', 'hmd_z', \n",
    "        'ctr_yaw', 'ctr_roll', 'ctr_pitch', 'ctr_x', 'ctr_y', 'ctr_z', \n",
    "        'gaze_or_x', 'gaze_or_y', 'gaze_or_z', 'gaze_dir_x', 'gaze_dir_y', \n",
    "        'gaze_dir_z', 'gaze_tgt_x', 'gaze_tgt_y', 'gaze_tgt_z', 'gaze_conv_dist', \n",
    "        'blinking', 'ts'])\n",
    "    fixation_df = pd.DataFrame(columns=['timestamp'])\n",
    "    \n",
    "    for session_id, row in subject_df.iterrows():\n",
    "        done = False\n",
    "        trial = 1\n",
    "        while not done:\n",
    "            data = load_json(DATA_DIR + \"/session_%s_trial_%d.json\" % (session_id, trial))\n",
    "            if data is not None:\n",
    "                key = \"%s_%d\" % (session_id, trial)\n",
    "                n_records = len(data['records'])\n",
    "                n_fixations = len(data['fixations'])                \n",
    "                for record in data['records']:\n",
    "                    record_key = \"%s_%.3f\" % (session_id, record['ts'])\n",
    "                    tracking_df = tracking_df.append(pd.Series(record, name=record_key))\n",
    "                del data['records']\n",
    "                for fixation in data['fixations']:\n",
    "                    fix_key = \"%s_%.3f\" % (session_id, fixation['ts'])                    \n",
    "                    fixation_df = fixation_df.append(pd.Series(fixation, name=fix_key))\n",
    "                del data['fixations']\n",
    "                data['duration'] = int(data.get('ts_end', 0) - data['ts_start'])\n",
    "                trial_df = trial_df.append(pd.Series(data, name=key))\n",
    "                trial += 1\n",
    "            else:\n",
    "                done = True\n",
    "                print(\"Loaded %d trials, %d records, %d fixations for subject %s\" % (trial - 1, n_records, n_fixations, session_id))\n",
    "    return trial_df, tracking_df, fixation_df"
   ]
  },
  {
   "cell_type": "code",
   "execution_count": 9,
   "metadata": {},
   "outputs": [
    {
     "name": "stdout",
     "output_type": "stream",
     "text": [
      "Generated subject dataframe with 1 subjects\n",
      "Loaded 5 trials, 899 records, 0 fixations for subject DEBUG\n"
     ]
    }
   ],
   "source": [
    "subject_df = generate_subject_df()\n",
    "trial_df, tracking_df, fixation_df = generate_trial_and_tracking_dfs(subject_df)"
   ]
  },
  {
   "cell_type": "code",
   "execution_count": 10,
   "metadata": {
    "scrolled": false
   },
   "outputs": [
    {
     "name": "stdout",
     "output_type": "stream",
     "text": [
      "Saved\n"
     ]
    }
   ],
   "source": [
    "trial_df.to_pickle(DATA_DIR + '/frames/trial_df.pickle')\n",
    "tracking_df.to_pickle(DATA_DIR + '/frames/tracking_df.pickle')\n",
    "fixation_df.to_pickle(DATA_DIR + '/frames/fixation_df.pickle')\n",
    "subject_df.to_pickle(DATA_DIR + '/frames/subject_df.pickle')\n",
    "print(\"Saved\")"
   ]
  }
 ],
 "metadata": {
  "kernelspec": {
   "display_name": "Python 3",
   "language": "python",
   "name": "python3"
  },
  "language_info": {
   "codemirror_mode": {
    "name": "ipython",
    "version": 3
   },
   "file_extension": ".py",
   "mimetype": "text/x-python",
   "name": "python",
   "nbconvert_exporter": "python",
   "pygments_lexer": "ipython3",
   "version": "3.7.3"
  }
 },
 "nbformat": 4,
 "nbformat_minor": 2
}
